{
  "nbformat": 4,
  "nbformat_minor": 0,
  "metadata": {
    "colab": {
      "provenance": []
    },
    "kernelspec": {
      "name": "python3",
      "display_name": "Python 3"
    },
    "language_info": {
      "name": "python"
    }
  },
  "cells": [
    {
      "cell_type": "code",
      "execution_count": null,
      "metadata": {
        "id": "ta3Y8CfZiOLk"
      },
      "outputs": [],
      "source": []
    },
    {
      "cell_type": "markdown",
      "source": [
        "**Rosalind Problem**\n",
        "\n",
        "Let:\n",
        "\n",
        "n = number of months\n",
        "\n",
        "k = number of rabbit pairs produced by each mature pair\n",
        "\n",
        "F(n) = number of rabbit pairs after month n\n",
        "\n",
        "We define:\n",
        "\n",
        "**Base Cases:**\n",
        "\n",
        "F(1) = 1 (start with 1 pair)\n",
        "\n",
        "F(2) = 1 (still only 1 pair as they aren't mature yet)\n",
        "\n",
        "**Recurrence Relation:**\n",
        "\n",
        "𝐹\n",
        "(\n",
        "𝑛\n",
        ")\n",
        "=\n",
        "𝐹\n",
        "(\n",
        "𝑛\n",
        "−\n",
        "1\n",
        ")\n",
        "+\n",
        "𝑘\n",
        "×\n",
        "𝐹\n",
        "(\n",
        "𝑛\n",
        "−\n",
        "2\n",
        ")\n",
        "F(n)=F(n−1)+k×F(n−2)\n",
        "\n",
        "**Why?** Because:\n",
        "\n",
        "F(n-1) accounts for all the rabbits alive in the previous month\n",
        "\n",
        "k * F(n-2) represents new rabbits born from rabbits that were mature two months ago"
      ],
      "metadata": {
        "id": "S3S7J4jd9A3m"
      }
    },
    {
      "cell_type": "markdown",
      "source": [
        "**Example**\n",
        "\n",
        "Given: n = 5, k = 3\n",
        "\n",
        "Compute:\n",
        "\n",
        "F(1) = 1\n",
        "\n",
        "F(2) = 1\n",
        "\n",
        "F(3) = 1 + 3×1 = 4\n",
        "\n",
        "F(4) = 4 + 3×1 = 7\n",
        "\n",
        "F(5) = 7 + 3×4 = 19"
      ],
      "metadata": {
        "id": "ntAkxZrM-nfv"
      }
    },
    {
      "cell_type": "code",
      "source": [
        "def rabbit_population(n, k):\n",
        "    if n == 1 or n == 2:\n",
        "        return 1\n",
        "    dp = [0] * (n + 1)\n",
        "    dp[1], dp[2] = 1, 1\n",
        "    for i in range(3, n + 1):\n",
        "        dp[i] = dp[i-1] + k * dp[i-2]\n",
        "    return dp[n]\n",
        "\n",
        "# Sample Input\n",
        "n, k = 5, 3\n",
        "print(rabbit_population(n, k))  # Output: 19\n"
      ],
      "metadata": {
        "colab": {
          "base_uri": "https://localhost:8080/"
        },
        "id": "aJJTYul8-s0-",
        "outputId": "02511c2d-6717-43e5-ba27-a01875edb8c5"
      },
      "execution_count": 4,
      "outputs": [
        {
          "output_type": "stream",
          "name": "stdout",
          "text": [
            "19\n"
          ]
        }
      ]
    },
    {
      "cell_type": "code",
      "source": [
        "def rabbit_population(n, k):\n",
        "    if n == 1 or n == 2:\n",
        "        return 1\n",
        "    dp = [0] * (n + 1)\n",
        "    dp[1], dp[2] = 1, 1\n",
        "    for i in range(3, n + 1):\n",
        "        dp[i] = dp[i-1] + k * dp[i-2]\n",
        "    return dp[n]\n",
        "\n",
        "# Sample Input\n",
        "n, k = 28, 4\n",
        "print(rabbit_population(n, k))  # Output: 19\n"
      ],
      "metadata": {
        "colab": {
          "base_uri": "https://localhost:8080/"
        },
        "id": "lUYQtRmx-_sq",
        "outputId": "53b5e477-fbd7-4b56-9e38-ef8ee30b13d1"
      },
      "execution_count": 5,
      "outputs": [
        {
          "output_type": "stream",
          "name": "stdout",
          "text": [
            "66507086889\n"
          ]
        }
      ]
    },
    {
      "cell_type": "code",
      "source": [
        "def rabbit_population(n, k):\n",
        "    if n == 1 or n == 2:\n",
        "        return 1\n",
        "    dp = [0] * (n + 1)\n",
        "    dp[1], dp[2] = 1, 1\n",
        "    for i in range(3, n + 1):\n",
        "        dp[i] = dp[i-1] + k * dp[i-2]\n",
        "    return dp[n]\n",
        "\n",
        "# Sample Input\n",
        "n, k = 30, 4\n",
        "print(rabbit_population(n, k))  # Output: 19"
      ],
      "metadata": {
        "colab": {
          "base_uri": "https://localhost:8080/"
        },
        "id": "CLDrvzCV_ovx",
        "outputId": "07e3fb5c-94c6-4f17-ea19-cdfb15a93f46"
      },
      "execution_count": 6,
      "outputs": [
        {
          "output_type": "stream",
          "name": "stdout",
          "text": [
            "436390025825\n"
          ]
        }
      ]
    },
    {
      "cell_type": "markdown",
      "source": [
        "Recall the definition of the Fibonacci numbers from “Rabbits and Recurrence Relations”, which followed the recurrence relation Fn=Fn−1+Fn−2\n",
        " and assumed that each pair of rabbits reaches maturity in one month and produces a single pair of offspring (one male, one female) each subsequent month.\n",
        "\n",
        "Our aim is to somehow modify this recurrence relation to achieve a dynamic programming solution in the case that all rabbits die out after a fixed number of months."
      ],
      "metadata": {
        "id": "F_bECVEuAHRL"
      }
    },
    {
      "cell_type": "markdown",
      "source": [
        "We want to find the number of rabbit pairs after n months, given that:\n",
        "\n",
        "Rabbits reach maturity after 1 month,\n",
        "\n",
        "Each mature pair produces 1 new pair every month,\n",
        "\n",
        "Rabbits live for m months.\n",
        "\n",
        "Let F(n) be the number of rabbit pairs alive at month n.\n",
        "Dynamic Programming Approach\n",
        "We use an array dp where:\n",
        "\n",
        "dp[i] represents the number of rabbit pairs alive in month i.\n",
        "\n",
        "Base Cases:\n",
        "\n",
        "dp[1] = 1 (we start with 1 pair of newborn rabbits)\n",
        "\n",
        "For months 2 to m, the rabbit population grows like Fibonacci because no rabbits have died yet.\n",
        "\n",
        "Recurrence: From month m+1 onward:\n",
        "\n",
        "𝑑\n",
        "𝑝\n",
        "[\n",
        "𝑛\n",
        "]\n",
        "=\n",
        "𝑑\n",
        "𝑝\n",
        "[\n",
        "𝑛\n",
        "−\n",
        "1\n",
        "]\n",
        "+\n",
        "𝑑\n",
        "𝑝\n",
        "[\n",
        "𝑛\n",
        "−\n",
        "2\n",
        "]\n",
        "+\n",
        "…\n",
        "+\n",
        "𝑑\n",
        "𝑝\n",
        "[\n",
        "𝑛\n",
        "−\n",
        "𝑚\n",
        "]\n",
        "−\n",
        "𝑑\n",
        "𝑝\n",
        "[\n",
        "𝑛\n",
        "−\n",
        "𝑚\n",
        "−\n",
        "1\n",
        "]\n",
        " (optional)\n",
        "dp[n]=dp[n−1]+dp[n−2]+…+dp[n−m]−dp[n−m−1] (optional)\n",
        "But a more optimal way is:\n",
        "\n",
        "𝑑\n",
        "𝑝\n",
        "[\n",
        "𝑛\n",
        "]\n",
        "=\n",
        "𝑑\n",
        "𝑝\n",
        "[\n",
        "𝑛\n",
        "−\n",
        "1\n",
        "]\n",
        "+\n",
        "𝑑\n",
        "𝑝\n",
        "[\n",
        "𝑛\n",
        "−\n",
        "2\n",
        "]\n",
        "+\n",
        "…\n",
        "+\n",
        "𝑑\n",
        "𝑝\n",
        "[\n",
        "𝑛\n",
        "−\n",
        "𝑚\n",
        "]\n",
        "dp[n]=dp[n−1]+dp[n−2]+…+dp[n−m]\n",
        "To do this efficiently, maintain a rolling sum of the last m generations."
      ],
      "metadata": {
        "id": "J_t3ggMYAiq6"
      }
    },
    {
      "cell_type": "markdown",
      "source": [
        "**Example:**\n",
        "\n",
        "n = 6, m = 3\n",
        "We simulate:\n",
        "\n",
        "dp[1] = 1\n",
        "\n",
        "dp[2] = 1 (initial rabbit pair is mature and reproduces)\n",
        "\n",
        "dp[3] = 2 (1 mature pair, 1 offspring)\n",
        "\n",
        "dp[4] = 3 (2 mature pairs reproducing)\n",
        "\n",
        "dp[5] = 4 (3 mature pairs)\n",
        "\n",
        "dp[6] = 4 (but the original rabbits from month 1 die)\n",
        "\n",
        "✔ Final answer: 4"
      ],
      "metadata": {
        "id": "aSpwHRnzAvfv"
      }
    },
    {
      "cell_type": "code",
      "source": [
        "def mortal_fibonacci(n, m):\n",
        "    # Initialize the age structure: age[i] = number of rabbits aged i months\n",
        "    age = [0] * m\n",
        "    age[0] = 1  # Start with one newborn rabbit pair\n",
        "\n",
        "    for _ in range(1, n):\n",
        "        new_borns = sum(age[1:])  # Rabbits aged 1 or more months can reproduce\n",
        "        age = [new_borns] + age[:-1]  # Age the rabbits and remove the oldest (they die)\n",
        "\n",
        "    return sum(age)  # Total number of rabbit pairs still alive\n",
        "\n",
        "# Sample input\n",
        "n, m = 6, 3\n",
        "print(mortal_fibonacci(n, m))  # Output: 4"
      ],
      "metadata": {
        "colab": {
          "base_uri": "https://localhost:8080/"
        },
        "id": "mfr9bdgOCoS0",
        "outputId": "89184be2-e570-479c-fb16-94971a67fe8a"
      },
      "execution_count": 8,
      "outputs": [
        {
          "output_type": "stream",
          "name": "stdout",
          "text": [
            "4\n"
          ]
        }
      ]
    },
    {
      "cell_type": "code",
      "source": [],
      "metadata": {
        "id": "gaOVBbqjC8LW"
      },
      "execution_count": null,
      "outputs": []
    },
    {
      "cell_type": "code",
      "source": [
        "def mortal_fibonacci(n, m):\n",
        "    # Initialize the age structure: age[i] = number of rabbits aged i months\n",
        "    age = [0] * m\n",
        "    age[0] = 1  # Start with one newborn rabbit pair\n",
        "\n",
        "    for _ in range(1, n):\n",
        "        new_borns = sum(age[1:])  # Rabbits aged 1 or more months can reproduce\n",
        "        age = [new_borns] + age[:-1]  # Age the rabbits and remove the oldest (they die)\n",
        "\n",
        "    return sum(age)  # Total number of rabbit pairs still alive\n",
        "\n",
        "# Sample input\n",
        "n, m = 83, 18\n",
        "print(mortal_fibonacci(n, m))  # Output: 4"
      ],
      "metadata": {
        "colab": {
          "base_uri": "https://localhost:8080/"
        },
        "outputId": "3cac20b1-d7a0-4933-9ab3-1fb3914d1c8a",
        "id": "m4z0RIL-C8uQ"
      },
      "execution_count": 9,
      "outputs": [
        {
          "output_type": "stream",
          "name": "stdout",
          "text": [
            "98682772786101696\n"
          ]
        }
      ]
    }
  ]
}