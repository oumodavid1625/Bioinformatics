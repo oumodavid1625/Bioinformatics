{
  "nbformat": 4,
  "nbformat_minor": 0,
  "metadata": {
    "colab": {
      "provenance": []
    },
    "kernelspec": {
      "name": "python3",
      "display_name": "Python 3"
    },
    "language_info": {
      "name": "python"
    }
  },
  "cells": [
    {
      "cell_type": "code",
      "execution_count": null,
      "metadata": {
        "id": "T37ANJ2ATEcY"
      },
      "outputs": [],
      "source": []
    },
    {
      "cell_type": "markdown",
      "source": [
        "# Gene Prediction in Colab using Prodigal"
      ],
      "metadata": {
        "id": "h-ajlRmiTwIG"
      }
    },
    {
      "cell_type": "code",
      "source": [
        "# Install Prodigal (gene prediction tool)\n",
        "# This command installs Prodigal on the Colab environment\n",
        "!apt-get install prodigal -y\n"
      ],
      "metadata": {
        "colab": {
          "base_uri": "https://localhost:8080/"
        },
        "id": "uqcG8QyKTwhQ",
        "outputId": "7f71a50d-04c9-491c-f69d-1f98061ae068"
      },
      "execution_count": 2,
      "outputs": [
        {
          "output_type": "stream",
          "name": "stdout",
          "text": [
            "Reading package lists... Done\n",
            "Building dependency tree... Done\n",
            "Reading state information... Done\n",
            "prodigal is already the newest version (1:2.6.3-5).\n",
            "0 upgraded, 0 newly installed, 0 to remove and 34 not upgraded.\n"
          ]
        }
      ]
    },
    {
      "cell_type": "code",
      "source": [
        "# Upload the FASTA file\n",
        "from google.colab import files\n",
        "fasta_file = \"mycotb.fasta\""
      ],
      "metadata": {
        "id": "jgLFiYyjUEo-"
      },
      "execution_count": 11,
      "outputs": []
    },
    {
      "cell_type": "code",
      "source": [
        "# Run Prodigal to predict genes\n",
        "# -i: input FASTA file\n",
        "# -a: output amino acid sequences (proteins)\n",
        "# -d: output nucleotide sequences of predicted genes\n",
        "# -f: output format (GFF)\n",
        "# -o: output file with gene predictions\n",
        "\n",
        "!prodigal -i mycotb.fasta -a proteins.faa -d genes.fna -f gff -o predicted.gff"
      ],
      "metadata": {
        "colab": {
          "base_uri": "https://localhost:8080/"
        },
        "id": "iaIU339rVHhK",
        "outputId": "22a2244c-ba2d-49ea-8126-5ac09fa86f9c"
      },
      "execution_count": 12,
      "outputs": [
        {
          "output_type": "stream",
          "name": "stdout",
          "text": [
            "-------------------------------------\n",
            "PRODIGAL v2.6.3 [February, 2016]         \n",
            "Univ of Tenn / Oak Ridge National Lab\n",
            "Doug Hyatt, Loren Hauser, et al.     \n",
            "-------------------------------------\n",
            "Request:  Single Genome, Phase:  Training\n",
            "Reading in the sequence(s) to train...4413362 bp seq created, 65.61 pct GC\n",
            "Locating all potential starts and stops...301395 nodes\n",
            "Looking for GC bias in different frames...frame bias scores: 0.43 0.18 2.40\n",
            "Building initial set of genes to train from...done!\n",
            "Creating coding model and scoring nodes...done!\n",
            "Examining upstream regions and training starts...done!\n",
            "-------------------------------------\n",
            "Request:  Single Genome, Phase:  Gene Finding\n",
            "Finding genes in sequence #1 (4413362 bp)...done!\n"
          ]
        }
      ]
    },
    {
      "cell_type": "markdown",
      "source": [
        "predicted.gff: Genomic feature format: shows gene positions and coordinates\n",
        "\n",
        "proteins.faa:\tFASTA file of predicted protein sequences\n",
        "\n",
        "genes.fna:\tFASTA file of nucleotide sequences for the predicted ORFs"
      ],
      "metadata": {
        "id": "ChZlBkUCZgvt"
      }
    }
  ]
}