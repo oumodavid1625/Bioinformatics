{
  "nbformat": 4,
  "nbformat_minor": 0,
  "metadata": {
    "colab": {
      "provenance": []
    },
    "kernelspec": {
      "name": "python3",
      "display_name": "Python 3"
    },
    "language_info": {
      "name": "python"
    }
  },
  "cells": [
    {
      "cell_type": "markdown",
      "source": [
        "The GC content for HLAAF1"
      ],
      "metadata": {
        "id": "dRivbxb7surm"
      }
    },
    {
      "cell_type": "code",
      "source": [
        "def analyze_dna(sequence):\n",
        "    # Convert to uppercase to ensure uniformity\n",
        "    sequence = sequence.upper()\n",
        "\n",
        "    # Count total nucleotides\n",
        "    total_nucleotides = len(sequence)\n",
        "\n",
        "    # Count individual bases\n",
        "    a_count = sequence.count('A')\n",
        "    t_count = sequence.count('T')\n",
        "    g_count = sequence.count('G')\n",
        "    c_count = sequence.count('C')\n",
        "\n",
        "    # Calculate GC content\n",
        "    gc_content = (g_count + c_count) / total_nucleotides * 100\n",
        "\n",
        "    # Print results\n",
        "    print(f\"Total nucleotides: {total_nucleotides}\")\n",
        "    print(f\"A: {a_count}\")\n",
        "    print(f\"T: {t_count}\")\n",
        "    print(f\"G: {g_count}\")\n",
        "    print(f\"C: {c_count}\")\n",
        "    print(f\"GC Content: {round(gc_content, 2)}%\")\n",
        "\n",
        "# Example usage\n",
        "dna_sequence = \"AACTCAGAGCTAAGGAATGATGGCAAAT\"\n",
        "analyze_dna(dna_sequence)"
      ],
      "metadata": {
        "colab": {
          "base_uri": "https://localhost:8080/"
        },
        "id": "N_-gL1ArtcwG",
        "outputId": "9b860a2f-52d8-401d-d41a-3b2b48fc0728"
      },
      "execution_count": 2,
      "outputs": [
        {
          "output_type": "stream",
          "name": "stdout",
          "text": [
            "Total nucleotides: 28\n",
            "A: 12\n",
            "T: 5\n",
            "G: 7\n",
            "C: 4\n",
            "GC Content: 39.29%\n"
          ]
        }
      ]
    },
    {
      "cell_type": "markdown",
      "source": [
        "GC content for HLAAF2"
      ],
      "metadata": {
        "id": "OFeGcXm2uT2a"
      }
    },
    {
      "cell_type": "code",
      "source": [
        "def analyze_dna(sequence):\n",
        "    # Convert to uppercase to ensure consistency\n",
        "    sequence = sequence.upper()\n",
        "\n",
        "    # Count total nucleotides\n",
        "    total_nucleotides = len(sequence)\n",
        "\n",
        "    # Count each nucleotide\n",
        "    a_count = sequence.count('A')\n",
        "    t_count = sequence.count('T')\n",
        "    g_count = sequence.count('G')\n",
        "    c_count = sequence.count('C')\n",
        "\n",
        "    # Calculate GC content\n",
        "    gc_content = (g_count + c_count) / total_nucleotides * 100\n",
        "\n",
        "    # Display results\n",
        "    print(f\"Total nucleotides: {total_nucleotides}\")\n",
        "    print(f\"A: {a_count}\")\n",
        "    print(f\"T: {t_count}\")\n",
        "    print(f\"G: {g_count}\")\n",
        "    print(f\"C: {c_count}\")\n",
        "    print(f\"GC Content: {round(gc_content, 2)}%\")\n",
        "\n",
        "# Analyze the new DNA sequence\n",
        "dna_sequence = \"AACTCAGAGCTATGGAATGATGGTAAAT\"\n",
        "analyze_dna(dna_sequence)"
      ],
      "metadata": {
        "colab": {
          "base_uri": "https://localhost:8080/"
        },
        "id": "1LOAg6yYuZa7",
        "outputId": "48d36adf-8918-4c16-d074-6efad8145e91"
      },
      "execution_count": 3,
      "outputs": [
        {
          "output_type": "stream",
          "name": "stdout",
          "text": [
            "Total nucleotides: 28\n",
            "A: 11\n",
            "T: 7\n",
            "G: 7\n",
            "C: 3\n",
            "GC Content: 35.71%\n"
          ]
        }
      ]
    },
    {
      "cell_type": "markdown",
      "source": [
        "GC content for HLAAR1"
      ],
      "metadata": {
        "id": "rgYAaXhuvIvg"
      }
    },
    {
      "cell_type": "code",
      "source": [
        "def analyze_dna(sequence):\n",
        "    # Convert to uppercase to ensure consistency\n",
        "    sequence = sequence.upper()\n",
        "\n",
        "    # Count total nucleotides\n",
        "    total_nucleotides = len(sequence)\n",
        "\n",
        "    # Count each nucleotide\n",
        "    a_count = sequence.count('A')\n",
        "    t_count = sequence.count('T')\n",
        "    g_count = sequence.count('G')\n",
        "    c_count = sequence.count('C')\n",
        "\n",
        "    # Calculate GC content\n",
        "    gc_content = (g_count + c_count) / total_nucleotides * 100\n",
        "\n",
        "    # Display results\n",
        "    print(f\"Total nucleotides: {total_nucleotides}\")\n",
        "    print(f\"A: {a_count}\")\n",
        "    print(f\"T: {t_count}\")\n",
        "    print(f\"G: {g_count}\")\n",
        "    print(f\"C: {c_count}\")\n",
        "    print(f\"GC Content: {round(gc_content, 2)}%\")\n",
        "\n",
        "# Analyze the DNA sequence\n",
        "dna_sequence = \"ATATAACCATCATCGTGTCCCAAGGTTC\"\n",
        "analyze_dna(dna_sequence)"
      ],
      "metadata": {
        "colab": {
          "base_uri": "https://localhost:8080/"
        },
        "id": "yWAnOskcvW82",
        "outputId": "64696bf5-59b9-4372-84ab-465a8696974e"
      },
      "execution_count": 4,
      "outputs": [
        {
          "output_type": "stream",
          "name": "stdout",
          "text": [
            "Total nucleotides: 28\n",
            "A: 8\n",
            "T: 8\n",
            "G: 4\n",
            "C: 8\n",
            "GC Content: 42.86%\n"
          ]
        }
      ]
    },
    {
      "cell_type": "markdown",
      "source": [
        "GC content HLABF1"
      ],
      "metadata": {
        "id": "hu45h0qVxAPv"
      }
    },
    {
      "cell_type": "code",
      "source": [
        "def analyze_dna(sequence):\n",
        "    # Convert to uppercase to ensure consistency\n",
        "    sequence = sequence.upper()\n",
        "\n",
        "    # Count total nucleotides\n",
        "    total_nucleotides = len(sequence)\n",
        "\n",
        "    # Count each nucleotide\n",
        "    a_count = sequence.count('A')\n",
        "    t_count = sequence.count('T')\n",
        "    g_count = sequence.count('G')\n",
        "    c_count = sequence.count('C')\n",
        "\n",
        "    # Calculate GC content\n",
        "    gc_content = (g_count + c_count) / total_nucleotides * 100\n",
        "\n",
        "    # Display results\n",
        "    print(f\"Total nucleotides: {total_nucleotides}\")\n",
        "    print(f\"A: {a_count}\")\n",
        "    print(f\"T: {t_count}\")\n",
        "    print(f\"G: {g_count}\")\n",
        "    print(f\"C: {c_count}\")\n",
        "    print(f\"GC Content: {round(gc_content, 2)}%\")\n",
        "\n",
        "# Analyze the DNA sequence\n",
        "dna_sequence = \"CCCGGTTGCAATAGACAGTAACAAA\"\n",
        "analyze_dna(dna_sequence)"
      ],
      "metadata": {
        "colab": {
          "base_uri": "https://localhost:8080/"
        },
        "id": "msI6pKExxGCi",
        "outputId": "10847f5a-c857-4e90-db52-1cb8e0fecedd"
      },
      "execution_count": 5,
      "outputs": [
        {
          "output_type": "stream",
          "name": "stdout",
          "text": [
            "Total nucleotides: 25\n",
            "A: 10\n",
            "T: 4\n",
            "G: 5\n",
            "C: 6\n",
            "GC Content: 44.0%\n"
          ]
        }
      ]
    },
    {
      "cell_type": "markdown",
      "source": [
        "GC content for HLABR1"
      ],
      "metadata": {
        "id": "xA1Q4tIAxrIT"
      }
    },
    {
      "cell_type": "code",
      "source": [
        "def analyze_dna(sequence):\n",
        "    # Convert to uppercase to ensure consistency\n",
        "    sequence = sequence.upper()\n",
        "\n",
        "    # Count total nucleotides\n",
        "    total_nucleotides = len(sequence)\n",
        "\n",
        "    # Count each nucleotide\n",
        "    a_count = sequence.count('A')\n",
        "    t_count = sequence.count('T')\n",
        "    g_count = sequence.count('G')\n",
        "    c_count = sequence.count('C')\n",
        "\n",
        "    # Calculate GC content\n",
        "    gc_content = (g_count + c_count) / total_nucleotides * 100\n",
        "\n",
        "    # Display results\n",
        "    print(f\"Total nucleotides: {total_nucleotides}\")\n",
        "    print(f\"A: {a_count}\")\n",
        "    print(f\"T: {t_count}\")\n",
        "    print(f\"G: {g_count}\")\n",
        "    print(f\"C: {c_count}\")\n",
        "    print(f\"GC Content: {round(gc_content, 2)}%\")\n",
        "\n",
        "# Analyze the DNA sequence\n",
        "dna_sequence = \"GGGTCCAATTTCACAGACAAATGT\"\n",
        "analyze_dna(dna_sequence)"
      ],
      "metadata": {
        "colab": {
          "base_uri": "https://localhost:8080/"
        },
        "id": "yGpX9IIwyZC3",
        "outputId": "63566380-cd08-49c7-c241-0cb6648c3ebd"
      },
      "execution_count": 6,
      "outputs": [
        {
          "output_type": "stream",
          "name": "stdout",
          "text": [
            "Total nucleotides: 24\n",
            "A: 8\n",
            "T: 6\n",
            "G: 5\n",
            "C: 5\n",
            "GC Content: 41.67%\n"
          ]
        }
      ]
    },
    {
      "cell_type": "markdown",
      "source": [
        "GC content for HLACF1"
      ],
      "metadata": {
        "id": "EA9Mo3NByjrP"
      }
    },
    {
      "cell_type": "code",
      "source": [
        "def analyze_dna(sequence):\n",
        "    # Convert to uppercase to ensure consistency\n",
        "    sequence = sequence.upper()\n",
        "\n",
        "    # Count total nucleotides\n",
        "    total_nucleotides = len(sequence)\n",
        "\n",
        "    # Count each nucleotide\n",
        "    a_count = sequence.count('A')\n",
        "    t_count = sequence.count('T')\n",
        "    g_count = sequence.count('G')\n",
        "    c_count = sequence.count('C')\n",
        "\n",
        "    # Calculate GC content\n",
        "    gc_content = (g_count + c_count) / total_nucleotides * 100\n",
        "\n",
        "    # Display results\n",
        "    print(f\"Total nucleotides: {total_nucleotides}\")\n",
        "    print(f\"A: {a_count}\")\n",
        "    print(f\"T: {t_count}\")\n",
        "    print(f\"G: {g_count}\")\n",
        "    print(f\"C: {c_count}\")\n",
        "    print(f\"GC Content: {round(gc_content, 2)}%\")\n",
        "\n",
        "# Analyze the DNA sequence\n",
        "dna_sequence = \"TGCTTAGATGTGCATAGTTCACGAA\"\n",
        "analyze_dna(dna_sequence)"
      ],
      "metadata": {
        "colab": {
          "base_uri": "https://localhost:8080/"
        },
        "id": "eeX3V_LMz6cd",
        "outputId": "91824e67-7ee3-4144-e554-3d8c3b18adbd"
      },
      "execution_count": 7,
      "outputs": [
        {
          "output_type": "stream",
          "name": "stdout",
          "text": [
            "Total nucleotides: 25\n",
            "A: 7\n",
            "T: 8\n",
            "G: 6\n",
            "C: 4\n",
            "GC Content: 40.0%\n"
          ]
        }
      ]
    },
    {
      "cell_type": "markdown",
      "source": [
        "HLACF2 GC content"
      ],
      "metadata": {
        "id": "MJxAQrnh0Lko"
      }
    },
    {
      "cell_type": "code",
      "source": [
        "def analyze_dna(sequence):\n",
        "    # Convert to uppercase to ensure consistency\n",
        "    sequence = sequence.upper()\n",
        "\n",
        "    # Count total nucleotides\n",
        "    total_nucleotides = len(sequence)\n",
        "\n",
        "    # Count each nucleotide\n",
        "    a_count = sequence.count('A')\n",
        "    t_count = sequence.count('T')\n",
        "    g_count = sequence.count('G')\n",
        "    c_count = sequence.count('C')\n",
        "\n",
        "    # Calculate GC content\n",
        "    gc_content = (g_count + c_count) / total_nucleotides * 100\n",
        "\n",
        "    # Display results\n",
        "    print(f\"Total nucleotides: {total_nucleotides}\")\n",
        "    print(f\"A: {a_count}\")\n",
        "    print(f\"T: {t_count}\")\n",
        "    print(f\"G: {g_count}\")\n",
        "    print(f\"C: {c_count}\")\n",
        "    print(f\"GC Content: {round(gc_content, 2)}%\")\n",
        "\n",
        "# Analyze the DNA sequence\n",
        "dna_sequence = \"TGCTTAGATGTGCATAGTTCCGGAA\"\n",
        "analyze_dna(dna_sequence)"
      ],
      "metadata": {
        "colab": {
          "base_uri": "https://localhost:8080/"
        },
        "id": "pfZyT2I30P-9",
        "outputId": "e12a0023-a334-4b44-b9d1-2909a9393f2d"
      },
      "execution_count": 8,
      "outputs": [
        {
          "output_type": "stream",
          "name": "stdout",
          "text": [
            "Total nucleotides: 25\n",
            "A: 6\n",
            "T: 8\n",
            "G: 7\n",
            "C: 4\n",
            "GC Content: 44.0%\n"
          ]
        }
      ]
    },
    {
      "cell_type": "markdown",
      "source": [
        "GC content for HLACR1"
      ],
      "metadata": {
        "id": "QDanBakw1Jhr"
      }
    },
    {
      "cell_type": "code",
      "source": [
        "def analyze_dna(sequence):\n",
        "    # Convert to uppercase to ensure consistency\n",
        "    sequence = sequence.upper()\n",
        "\n",
        "    # Count total nucleotides\n",
        "    total_nucleotides = len(sequence)\n",
        "\n",
        "    # Count each nucleotide\n",
        "    a_count = sequence.count('A')\n",
        "    t_count = sequence.count('T')\n",
        "    g_count = sequence.count('G')\n",
        "    c_count = sequence.count('C')\n",
        "\n",
        "    # Calculate GC content\n",
        "    gc_content = (g_count + c_count) / total_nucleotides * 100\n",
        "\n",
        "    # Display results\n",
        "    print(f\"Total nucleotides: {total_nucleotides}\")\n",
        "    print(f\"A: {a_count}\")\n",
        "    print(f\"T: {t_count}\")\n",
        "    print(f\"G: {g_count}\")\n",
        "    print(f\"C: {c_count}\")\n",
        "    print(f\"GC Content: {round(gc_content, 2)}%\")\n",
        "\n",
        "# Analyze the DNA sequence\n",
        "dna_sequence = \"TGGACCCAATTTTACAAACAAATA\"\n",
        "analyze_dna(dna_sequence)"
      ],
      "metadata": {
        "colab": {
          "base_uri": "https://localhost:8080/"
        },
        "id": "LEPvBg0i1OH8",
        "outputId": "81106a8a-10f9-4418-8a5c-271a6481adb5"
      },
      "execution_count": 9,
      "outputs": [
        {
          "output_type": "stream",
          "name": "stdout",
          "text": [
            "Total nucleotides: 24\n",
            "A: 11\n",
            "T: 6\n",
            "G: 2\n",
            "C: 5\n",
            "GC Content: 29.17%\n"
          ]
        }
      ]
    }
  ]
}